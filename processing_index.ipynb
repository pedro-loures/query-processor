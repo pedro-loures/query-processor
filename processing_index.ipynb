{
 "cells": [
  {
   "cell_type": "code",
   "execution_count": 30,
   "metadata": {},
   "outputs": [],
   "source": [
    "import math"
   ]
  },
  {
   "cell_type": "code",
   "execution_count": 31,
   "metadata": {},
   "outputs": [],
   "source": [
    "index_path = 'd:/OneDrive - Universidade Federal de Minas Gerais/01_Estudos/Faculdade/RI/rc2023/result_with_numbers/'"
   ]
  },
  {
   "attachments": {},
   "cell_type": "markdown",
   "metadata": {},
   "source": [
    "### Extract most common words"
   ]
  },
  {
   "cell_type": "code",
   "execution_count": 32,
   "metadata": {},
   "outputs": [
    {
     "data": {
      "text/plain": [
       "(121016886, 4076387, 29.687290730737782)"
      ]
     },
     "execution_count": 32,
     "metadata": {},
     "output_type": "execute_result"
    }
   ],
   "source": [
    "\n",
    "total_document_len = 0\n",
    "with open(index_path + 'index') as index:\n",
    "    index.readline()\n",
    "    for line_number, line in enumerate(index):\n",
    "        word, documents = line.split(':')\n",
    "        documents = documents.split(';')\n",
    "        total_document_len += len(documents)\n",
    "\n",
    "number_of_words = line_number\n",
    "avarage_document_length = total_document_len/number_of_words\n",
    "total_document_len, number_of_words, avarage_document_length"
   ]
  },
  {
   "cell_type": "code",
   "execution_count": 33,
   "metadata": {},
   "outputs": [
    {
     "data": {
      "text/plain": [
       "(29.687290730737782, 1406.967448578226, 710138)"
      ]
     },
     "execution_count": 33,
     "metadata": {},
     "output_type": "execute_result"
    }
   ],
   "source": [
    "commom_lexicon = []\n",
    "\n",
    "max_documents = 0\n",
    "\n",
    "variance_part = 0\n",
    "with open(index_path + 'index') as index:\n",
    "    index.readline()\n",
    "    for line_number, line in enumerate(index):\n",
    "        word, documents = line.split(':')\n",
    "        documents = documents.split(';')\n",
    "        n_documents = len(documents)\n",
    "        variance_part += (avarage_document_length - n_documents) ** 2\n",
    "        if n_documents > max_documents:\n",
    "            max_documents = n_documents\n",
    "\n",
    "\n",
    "variance = variance_part/number_of_words\n",
    "standard_deviation = math.sqrt(variance)\n",
    "\n",
    "avarage_document_length, standard_deviation, max_documents"
   ]
  },
  {
   "cell_type": "code",
   "execution_count": 34,
   "metadata": {},
   "outputs": [
    {
     "data": {
      "text/plain": [
       "3971"
      ]
     },
     "execution_count": 34,
     "metadata": {},
     "output_type": "execute_result"
    }
   ],
   "source": [
    "with open(index_path + 'index') as index:\n",
    "    index.readline()\n",
    "    for line_number, line in enumerate(index):\n",
    "        word, documents = line.split(':')\n",
    "        documents = documents.split(';')\n",
    "        n_documents = len(documents)\n",
    "        razor = avarage_document_length +  2 * standard_deviation\n",
    "        if n_documents > razor and len(word) > 3:\n",
    "            commom_lexicon.append(word)\n",
    "\n",
    "\n",
    "len(commom_lexicon)"
   ]
  },
  {
   "cell_type": "code",
   "execution_count": 35,
   "metadata": {},
   "outputs": [],
   "source": [
    "with open('bases/commom_lexicon', 'w') as commom_lexicon_file:\n",
    "    commom_lexicon_file.writelines(word + '\\n' for word in commom_lexicon)\n"
   ]
  },
  {
   "cell_type": "code",
   "execution_count": null,
   "metadata": {},
   "outputs": [],
   "source": []
  },
  {
   "attachments": {},
   "cell_type": "markdown",
   "metadata": {},
   "source": [
    "### Extract information from documents from the train qrels"
   ]
  },
  {
   "cell_type": "code",
   "execution_count": 39,
   "metadata": {},
   "outputs": [
    {
     "name": "stdout",
     "output_type": "stream",
     "text": [
      "{'009': '4440548', '010': '4540314', '013': '4161909', '015': '3136663', '017': '4160758', '018': '4534506', '019': '0847581', '023': '2347833', '024': '4388914', '029': '4202175', '031': '0373064', '034': '2840987', '035': '4624244', '036': '4028572', '040': '1476275', '041': '0416772', '042': '1583564', '044': '3671604', '048': '4558335', '049': '4532117', '050': '1966578', '058': '0567026', '059': '3853249', '061': '4226824', '063': '4367759', '065': '3453314', '066': '3984288', '073': '1881203', '075': '0468119', '077': '0307291', '078': '3202001', '081': '4464222', '086': '1749733', '087': '4544744', '088': '4222091', '089': '2416498', '096': '3994272', '098': '2838528', '099': '3150563', '100': '3508104', '103': '4471344', '104': '4534560', '106': '3871549', '107': '3720707', '111': '4353582', '112': '3581407', '114': '2000219', '115': '4537872', '116': '4477194', '117': '4499199', '119': '4357280', '120': '4498144', '123': '3983439', '124': '4520425', '125': '4582417', '130': '4333382', '131': '4475171', '132': '4573110', '133': '3722085', '136': '4487726', '137': '4459448', '139': '4612290', '141': '4414308', '144': '4133527', '146': '3576915', '147': '4632037', '148': '4246758', '152': '4459480', '158': '4279487', '161': '3536493', '162': '4413301', '165': '3162458', '168': '1788326', '171': '4520102', '175': '4548401', '176': '3823706', '178': '4281548', '179': '3550983', '180': '3000247', '181': '4491176', '183': '3010410', '187': '2208311', '188': '4620424', '190': '3385655', '192': '2913228', '193': '4554753', '194': '3918797', '196': '4623947', '197': '4443011', '199': '4297523', '201': '3013436', '203': '2713338', '204': '0280410', '205': '3006930', '210': '3991336', '214': '4530671', '215': '3189415', '216': '2849978', '219': '2204761', '221': '3010410', '222': '3964813', '224': '3046067', '229': '1330109', '234': '2966175', '235': '3607899', '236': '4634256', '237': '3983439', '238': '4441964', '242': '3828102', '246': '0876442', '247': '1278848', '251': '2142889', '252': '2116184', '254': '2879091', '256': '0798453', '257': '4533368', '261': '4213203', '264': '4314535', '265': '3278588', '267': '4496828', '270': '3572005', '271': '4637474', '275': '3862210', '276': '4158528', '277': '3577781', '284': '2387162', '285': '1556727', '286': '4541904', '290': '2266945', '292': '1659017', '295': '1759258', '299': '2405903', '300': '0691022', '301': '0888816', '303': '1103659', '305': '3087795', '309': '3844081', '310': '2126724', '311': '1849509', '313': '2812977', '321': '3671118', '322': '3722805', '324': '4142865', '328': '4374128', '331': '0755394', '332': '0798211', '333': '0815704', '336': '4075262', '339': '0972505', '340': '1132294', '346': '4508884', '348': '4105546', '351': '2015897', '352': '2018376', '353': '2033500', '356': '4148009', '358': '4223288', '360': '2480120', '364': '2623468', '366': '4072450', '367': '2723449', '368': '2735803', '369': '2789572', '370': '0271094', '371': '2810695', '375': '3170202', '377': '3318519', '380': '3524808', '391': '3649414', '392': '3895024', '396': '4173938', '398': '1340410', '399': '4334093', '400': '4482614', '402': '1889598', '406': '4470264', '407': '4584135', '409': '0410118', '410': '3573664', '412': '4098370', '413': '4610143', '414': '4613535', '421': '2659758', '424': '0583049', '425': '3353421', '426': '2999899', '429': '0221475', '430': '3694890', '432': '3838292', '433': '4503770', '437': '2994176', '443': '2880125', '444': '1850845', '445': '3741407', '446': '4052493', '449': '3067057', '451': '4411051', '452': '1953971', '458': '4284307', '459': '3876396', '461': '3755819', '462': '3349773', '464': '4236524', '466': '3807993', '467': '2785903'}\n"
     ]
    }
   ],
   "source": [
    "train_qrels_wrapper = open('bases/train_qrels.csv', 'r')\n",
    "train_queries_wrapper = open('test_queries/train_queries.csv', 'r')\n",
    "\n",
    "\n",
    "train_qrels_wrapper.readline()\n",
    "query_document = {}\n",
    "for line in train_qrels_wrapper:\n",
    "    query, document, relevance = line.split(',')\n",
    "    if int(relevance) == 2:   \n",
    "        query_document[query] = document\n",
    "\n",
    "print(query_document)"
   ]
  },
  {
   "cell_type": "code",
   "execution_count": null,
   "metadata": {},
   "outputs": [],
   "source": []
  }
 ],
 "metadata": {
  "kernelspec": {
   "display_name": "base",
   "language": "python",
   "name": "python3"
  },
  "language_info": {
   "codemirror_mode": {
    "name": "ipython",
    "version": 3
   },
   "file_extension": ".py",
   "mimetype": "text/x-python",
   "name": "python",
   "nbconvert_exporter": "python",
   "pygments_lexer": "ipython3",
   "version": "3.9.13"
  },
  "orig_nbformat": 4
 },
 "nbformat": 4,
 "nbformat_minor": 2
}
